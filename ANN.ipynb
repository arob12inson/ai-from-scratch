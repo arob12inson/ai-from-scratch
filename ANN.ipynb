{
 "cells": [
  {
   "cell_type": "markdown",
   "id": "8a6872c4",
   "metadata": {},
   "source": [
    "# Artificial Neural Network from Scratch\n",
    "\n",
    "This is an exercise in understanding the workings of an artificial neural network, by implementing one without Tensorflow, Pytorch, etc.\n",
    "\n",
    "This model is trained to recognize handwritten numbers from the MNIST Dataset. Real original, I know."
   ]
  },
  {
   "cell_type": "code",
   "execution_count": 2,
   "id": "4d1a8861",
   "metadata": {},
   "outputs": [],
   "source": [
    "import numpy as np\n",
    "import struct"
   ]
  },
  {
   "cell_type": "code",
   "execution_count": 3,
   "id": "8b384040",
   "metadata": {},
   "outputs": [],
   "source": [
    "NUM_TRAINING_EXAMPLES = 60000\n",
    "NUM_TESTING_EXAMPLES = 10000"
   ]
  },
  {
   "cell_type": "code",
   "execution_count": 4,
   "id": "2dc2137a",
   "metadata": {},
   "outputs": [],
   "source": [
    "def read_mnist_images(file_name):\n",
    "    with open(file_name, 'rb') as file:\n",
    "        magic, num, rows, cols = struct.unpack(\">IIII\", file.read(16))\n",
    "        images = np.fromfile(file, dtype=np.uint8).reshape(num, rows, cols)\n",
    "    return images\n",
    "\n",
    "def read_mnist_labels(file_name):\n",
    "    with open(file_name, 'rb') as file:\n",
    "        magic, num = struct.unpack(\">II\", file.read(8))\n",
    "        labels = np.fromfile(file, dtype=np.uint8)\n",
    "    return labels\n",
    "\n",
    "# Use these functions to read the data\n",
    "train_images = read_mnist_images('train-images-idx3-ubyte')\n",
    "train_labels = read_mnist_labels('train-labels-idx1-ubyte')\n",
    "test_images = read_mnist_images('t10k-images-idx3-ubyte')\n",
    "test_labels = read_mnist_labels('t10k-labels-idx1-ubyte')\n",
    "\n"
   ]
  },
  {
   "cell_type": "code",
   "execution_count": 30,
   "id": "98e95d8b",
   "metadata": {},
   "outputs": [],
   "source": [
    "train_images = train_images.reshape(NUM_TRAINING_EXAMPLES, -1, 1)\n",
    "test_images = test_images.reshape(NUM_TESTING_EXAMPLES, -1, 1)"
   ]
  },
  {
   "cell_type": "code",
   "execution_count": 31,
   "id": "b6304314",
   "metadata": {
    "scrolled": true
   },
   "outputs": [
    {
     "name": "stdout",
     "output_type": "stream",
     "text": [
      "(60000, 784, 1) (60000,) (10000, 784, 1) (10000,)\n"
     ]
    }
   ],
   "source": [
    "print(train_images.shape, train_labels.shape, test_images.shape, test_labels.shape)"
   ]
  },
  {
   "cell_type": "code",
   "execution_count": null,
   "id": "5fce420c",
   "metadata": {},
   "outputs": [],
   "source": []
  },
  {
   "cell_type": "code",
   "execution_count": 68,
   "id": "85963b65",
   "metadata": {},
   "outputs": [
    {
     "name": "stdout",
     "output_type": "stream",
     "text": [
      "Epoch 1/40\n",
      "1875/1875 [==============================] - 3s 2ms/step - loss: 1.6008\n",
      "Epoch 2/40\n",
      "1875/1875 [==============================] - 3s 2ms/step - loss: 1.0262\n",
      "Epoch 3/40\n",
      "1875/1875 [==============================] - 3s 2ms/step - loss: 0.9368\n",
      "Epoch 4/40\n",
      "1875/1875 [==============================] - 3s 1ms/step - loss: 0.8979\n",
      "Epoch 5/40\n",
      "1875/1875 [==============================] - 3s 2ms/step - loss: 0.8787\n",
      "Epoch 6/40\n",
      "1875/1875 [==============================] - 3s 2ms/step - loss: 0.8962\n",
      "Epoch 7/40\n",
      "1875/1875 [==============================] - 3s 2ms/step - loss: 0.8750\n",
      "Epoch 8/40\n",
      "1875/1875 [==============================] - 3s 2ms/step - loss: 0.8716\n",
      "Epoch 9/40\n",
      "1875/1875 [==============================] - 3s 1ms/step - loss: 0.8237\n",
      "Epoch 10/40\n",
      "1875/1875 [==============================] - 3s 2ms/step - loss: 0.8279\n",
      "Epoch 11/40\n",
      "1875/1875 [==============================] - 3s 2ms/step - loss: 0.8158\n",
      "Epoch 12/40\n",
      "1875/1875 [==============================] - 3s 1ms/step - loss: 0.8105\n",
      "Epoch 13/40\n",
      "1875/1875 [==============================] - 3s 2ms/step - loss: 0.8328\n",
      "Epoch 14/40\n",
      "1875/1875 [==============================] - 3s 2ms/step - loss: 0.8236\n",
      "Epoch 15/40\n",
      "1875/1875 [==============================] - 3s 1ms/step - loss: 0.8442\n",
      "Epoch 16/40\n",
      "1875/1875 [==============================] - 3s 2ms/step - loss: 0.8418\n",
      "Epoch 17/40\n",
      "1875/1875 [==============================] - 3s 2ms/step - loss: 0.8221\n",
      "Epoch 18/40\n",
      "1875/1875 [==============================] - 3s 2ms/step - loss: 0.8405\n",
      "Epoch 19/40\n",
      "1875/1875 [==============================] - 3s 2ms/step - loss: 0.8167\n",
      "Epoch 20/40\n",
      "1875/1875 [==============================] - 3s 1ms/step - loss: 0.8276\n",
      "Epoch 21/40\n",
      "1875/1875 [==============================] - 3s 1ms/step - loss: 0.8458\n",
      "Epoch 22/40\n",
      "1875/1875 [==============================] - 3s 2ms/step - loss: 0.8344\n",
      "Epoch 23/40\n",
      "1875/1875 [==============================] - 3s 2ms/step - loss: 0.8433\n",
      "Epoch 24/40\n",
      "1875/1875 [==============================] - 3s 2ms/step - loss: 0.8534\n",
      "Epoch 25/40\n",
      "1875/1875 [==============================] - 3s 2ms/step - loss: 0.8523\n",
      "Epoch 26/40\n",
      "1875/1875 [==============================] - 3s 2ms/step - loss: 0.8768\n",
      "Epoch 27/40\n",
      "1875/1875 [==============================] - 3s 2ms/step - loss: 0.8715\n",
      "Epoch 28/40\n",
      "1875/1875 [==============================] - 3s 2ms/step - loss: 0.8444\n",
      "Epoch 29/40\n",
      "1875/1875 [==============================] - 3s 2ms/step - loss: 0.8501\n",
      "Epoch 30/40\n",
      "1875/1875 [==============================] - 3s 2ms/step - loss: 0.8723\n",
      "Epoch 31/40\n",
      "1875/1875 [==============================] - 3s 2ms/step - loss: 0.8690\n",
      "Epoch 32/40\n",
      "1875/1875 [==============================] - 3s 2ms/step - loss: 0.8476\n",
      "Epoch 33/40\n",
      "1875/1875 [==============================] - 3s 2ms/step - loss: 0.8636\n",
      "Epoch 34/40\n",
      "1875/1875 [==============================] - 3s 2ms/step - loss: 0.8448\n",
      "Epoch 35/40\n",
      "1875/1875 [==============================] - 3s 2ms/step - loss: 0.8529\n",
      "Epoch 36/40\n",
      "1875/1875 [==============================] - 3s 2ms/step - loss: 0.8594\n",
      "Epoch 37/40\n",
      "1875/1875 [==============================] - 3s 2ms/step - loss: 0.8728\n",
      "Epoch 38/40\n",
      "1875/1875 [==============================] - 3s 2ms/step - loss: 0.8863\n",
      "Epoch 39/40\n",
      "1875/1875 [==============================] - 3s 2ms/step - loss: 0.8735\n",
      "Epoch 40/40\n",
      "1875/1875 [==============================] - 3s 2ms/step - loss: 0.8573\n"
     ]
    },
    {
     "data": {
      "text/plain": [
       "<keras.src.callbacks.History at 0x7f5661ca04d0>"
      ]
     },
     "execution_count": 68,
     "metadata": {},
     "output_type": "execute_result"
    }
   ],
   "source": [
    "import tensorflow as tf\n",
    "from tensorflow.keras import Sequential\n",
    "from tensorflow.keras.layers import Dense\n",
    "\n",
    "model = Sequential ([\n",
    "    tf.keras.Input(shape=(784,)), # input layer! (layer 0)\n",
    "    Dense(units=25, activation='relu'),\n",
    "    Dense(units=15, activation='relu'),\n",
    "    Dense(units=10, activation='softmax')\n",
    "    ], name = 'reference_model'\n",
    ")\n",
    "\n",
    "from tensorflow.keras.losses import SparseCategoricalCrossentropy\n",
    "model.compile(loss=SparseCategoricalCrossentropy())\n",
    "model.fit(train_images, train_labels, epochs=40)"
   ]
  },
  {
   "cell_type": "code",
   "execution_count": 70,
   "id": "7140949f",
   "metadata": {},
   "outputs": [
    {
     "name": "stdout",
     "output_type": "stream",
     "text": [
      "1/1 [==============================] - 0s 12ms/step\n",
      " Prediction: 6\n"
     ]
    },
    {
     "data": {
      "image/png": "[encoded data removed]",
      "text/plain": [
       "<Figure size 640x480 with 1 Axes>"
      ]
     },
     "metadata": {},
     "output_type": "display_data"
    }
   ],
   "source": [
    "import matplotlib.pyplot as plt\n",
    "%matplotlib inline\n",
    "\n",
    "def show_prediction(i):\n",
    "    '''\n",
    "    i: which training example to make prediction on\n",
    "    '''\n",
    "    \n",
    "    image = test_images[i].reshape((28, 28))\n",
    "    plt.imshow(image, cmap='gray')\n",
    "    plt.xticks([])\n",
    "    plt.yticks([])\n",
    "    \n",
    "    prediction = model.predict(test_images[i].reshape(1,-1))  # a zero\n",
    "    print(f\" Prediction: {np.argmax(prediction)}\")\n",
    "\n",
    "show_prediction(91)\n",
    "    "
   ]
  },
  {
   "cell_type": "code",
   "execution_count": 6,
   "id": "74b9eecb",
   "metadata": {},
   "outputs": [],
   "source": [
    "'''\n",
    "import tensorflow as tf\n",
    "from tensorflow.keras import Sequential\n",
    "from tensorflow.keras.layers import Dense\n",
    "\n",
    "model = Sequential ([\n",
    "    tf.keras.Input(shape=(784,)), # input layer! (layer 0)\n",
    "    Dense(units=25, activation='relu'),\n",
    "    Dense(units=15, activation='relu'),\n",
    "    Dense(units=10, activation='softmax')\n",
    "    ], name = 'reference_model'\n",
    ")\n",
    "\n",
    "from tensorflow.keras.losses import SparseCategoricalCrossentropy\n",
    "model.compile(loss=SparseCategoricalCrossentropy())\n",
    "model.fit(train_images, train_labels, epochs=40)\n",
    "'''"
   ]
  },
  {
   "cell_type": "code",
   "execution_count": 156,
   "id": "ca18e0c4",
   "metadata": {},
   "outputs": [],
   "source": [
    "class NN():\n",
    "    def __init__(self, layers):\n",
    "        self.layers = layers\n",
    "\n",
    "    def predict(self, X):\n",
    "        a = X\n",
    "        for l in self.layers:\n",
    "            a = l.forward(a)\n",
    "        return np.argmax(a)"
   ]
  },
  {
   "cell_type": "code",
   "execution_count": 157,
   "id": "52ad7f36",
   "metadata": {},
   "outputs": [],
   "source": [
    "class Layer():\n",
    "    def __init__(self, input_size, output_size, activation_function):\n",
    "        self.input_size = input_size\n",
    "        self.output_size = output_size\n",
    "        self.activation_function = activation_function\n",
    "        self.W = np.zeros((input_size, output_size))\n",
    "        self.b = np.zeros(output_size)\n",
    "    def set_params(self, W, b):\n",
    "        self.W = W\n",
    "        self.b = b\n",
    "    def forward(self, a_in):\n",
    "        '''\n",
    "        a_in should be a row vector\n",
    "        '''\n",
    "        Z = np.matmul(a_in, self.W) + self.b\n",
    "        return self.activation_function(Z)"
   ]
  },
  {
   "cell_type": "code",
   "execution_count": 158,
   "id": "2c5cbd92",
   "metadata": {},
   "outputs": [],
   "source": [
    "def ReLU(z):\n",
    "    return np.maximum(0, z)\n",
    "def linear(z):\n",
    "    return z\n",
    "def sigmoid(z):\n",
    "    return 1/(1 + np.exp(-1 * z))\n",
    "def softmax(z):\n",
    "    shift_z = z - np.max(z)\n",
    "    ez = np.exp(shift_z)\n",
    "    a = ez/np.sum(ez) \n",
    "    return a"
   ]
  },
  {
   "cell_type": "code",
   "execution_count": 159,
   "id": "11513320",
   "metadata": {},
   "outputs": [],
   "source": [
    "\n",
    "l1 = Layer(784, 25, ReLU)\n",
    "l2 = Layer(25, 15, ReLU)\n",
    "l3 = Layer(15, 10, softmax)\n",
    "\n",
    "[layer1, layer2, layer3] = model.layers\n",
    "\n",
    "W1,b1 = layer1.get_weights()\n",
    "W2,b2 = layer2.get_weights()\n",
    "W3,b3 = layer3.get_weights()\n",
    "\n",
    "l1.set_params(W1, b1)\n",
    "l2.set_params(W2, b2)\n",
    "l3.set_params(W3, b3)\n",
    " \n",
    "my_model = NN([\n",
    "    l1, l2, l3\n",
    "])"
   ]
  },
  {
   "cell_type": "code",
   "execution_count": 162,
   "id": "26a530f1",
   "metadata": {},
   "outputs": [
    {
     "name": "stdout",
     "output_type": "stream",
     "text": [
      " Prediction: 3\n"
     ]
    },
    {
     "data": {
      "image/png": "[encoded data removed]",
      "text/plain": [
       "<Figure size 640x480 with 1 Axes>"
      ]
     },
     "metadata": {},
     "output_type": "display_data"
    }
   ],
   "source": [
    "def show_my_prediction(i):\n",
    "    '''\n",
    "    i: which training example to make prediction on\n",
    "    '''\n",
    "    image = test_images[i].reshape((28, 28))\n",
    "    plt.imshow(image, cmap='gray')\n",
    "    plt.xticks([])\n",
    "    plt.yticks([])\n",
    "    \n",
    "    prediction = my_model.predict(test_images[i].reshape(1,-1))  # a zero\n",
    "    print(f\" Prediction: {prediction}\")\n",
    "\n",
    "\n",
    "show_my_prediction(30)"
   ]
  },
  {
   "cell_type": "code",
   "execution_count": null,
   "id": "407a4eff",
   "metadata": {},
   "outputs": [],
   "source": []
  },
  {
   "cell_type": "code",
   "execution_count": null,
   "id": "e3bd656c",
   "metadata": {},
   "outputs": [],
   "source": []
  }
 ],
 "metadata": {
  "kernelspec": {
   "display_name": "Python 3 (ipykernel)",
   "language": "python",
   "name": "python3"
  },
  "language_info": {
   "codemirror_mode": {
    "name": "ipython",
    "version": 3
   },
   "file_extension": ".py",
   "mimetype": "text/x-python",
   "name": "python",
   "nbconvert_exporter": "python",
   "pygments_lexer": "ipython3",
   "version": "3.11.5"
  }
 },
 "nbformat": 4,
 "nbformat_minor": 5
}
