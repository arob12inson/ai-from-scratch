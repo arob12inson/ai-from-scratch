{
 "cells": [
  {
   "cell_type": "code",
   "execution_count": 1,
   "id": "bd9e0de3",
   "metadata": {
    "_cell_guid": "b1076dfc-b9ad-4769-8c92-a6c4dae69d19",
    "_uuid": "8f2839f25d086af736a60e9eeb907d3b93b6e0e5",
    "execution": {
     "iopub.execute_input": "2023-12-22T06:49:50.787561Z",
     "iopub.status.busy": "2023-12-22T06:49:50.787234Z",
     "iopub.status.idle": "2023-12-22T06:49:51.653167Z",
     "shell.execute_reply": "2023-12-22T06:49:51.651903Z"
    },
    "papermill": {
     "duration": 0.873239,
     "end_time": "2023-12-22T06:49:51.656191",
     "exception": false,
     "start_time": "2023-12-22T06:49:50.782952",
     "status": "completed"
    },
    "tags": []
   },
   "outputs": [
    {
     "name": "stdout",
     "output_type": "stream",
     "text": [
      "/kaggle/input/random-linear-regression/train.csv\n",
      "/kaggle/input/random-linear-regression/test.csv\n"
     ]
    }
   ],
   "source": [
    "# This Python 3 environment comes with many helpful analytics libraries installed\n",
    "# It is defined by the kaggle/python Docker image: https://github.com/kaggle/docker-python\n",
    "# For example, here's several helpful packages to load\n",
    "\n",
    "import numpy as np # linear algebra\n",
    "import pandas as pd # data processing, CSV file I/O (e.g. pd.read_csv)\n",
    "import matplotlib.pyplot as plt\n",
    "%matplotlib inline\n",
    "# Input data files are available in the read-only \"../input/\" directory\n",
    "# For example, running this (by clicking run or pressing Shift+Enter) will list all files under the input directory\n",
    "\n",
    "import os\n",
    "for dirname, _, filenames in os.walk('/kaggle/input'):\n",
    "    for filename in filenames:\n",
    "        print(os.path.join(dirname, filename))\n",
    "\n",
    "# You can write up to 20GB to the current directory (/kaggle/working/) that gets preserved as output when you create a version using \"Save & Run All\" \n",
    "# You can also write temporary files to /kaggle/temp/, but they won't be saved outside of the current session\n",
    "\n",
    "NUM_ITERATIONS = 10000\n",
    "\n",
    "training_data = pd.read_csv(\"/kaggle/input/random-linear-regression/train.csv\").dropna()\n",
    "testing_data = pd.read_csv(\"/kaggle/input/random-linear-regression/test.csv\").dropna()\n",
    "x_train = training_data[\"x\"].to_numpy()\n",
    "x_train /= x_train.max()\n",
    "y_train = training_data[\"y\"].to_numpy()\n",
    "y_train /= y_train.max()\n",
    "x_test = testing_data[\"x\"].to_numpy()\n",
    "y_test = testing_data[\"y\"].to_numpy()\n",
    "\n",
    "\n"
   ]
  },
  {
   "cell_type": "code",
   "execution_count": 2,
   "id": "7c26f6ed",
   "metadata": {
    "execution": {
     "iopub.execute_input": "2023-12-22T06:49:51.662688Z",
     "iopub.status.busy": "2023-12-22T06:49:51.662335Z",
     "iopub.status.idle": "2023-12-22T06:49:51.673115Z",
     "shell.execute_reply": "2023-12-22T06:49:51.671511Z"
    },
    "papermill": {
     "duration": 0.016656,
     "end_time": "2023-12-22T06:49:51.675503",
     "exception": false,
     "start_time": "2023-12-22T06:49:51.658847",
     "status": "completed"
    },
    "tags": []
   },
   "outputs": [],
   "source": [
    "def cost_function (x, y, w, b): \n",
    "    '''\n",
    "    x: numpy_array\n",
    "    y: numpy_array\n",
    "    '''\n",
    "    m = x.size\n",
    "    cost = 0\n",
    "    \n",
    "    for i in range(m):\n",
    "        y_hat = x[i] * w + b\n",
    "        cost += (y_hat - y[i]) ** 2\n",
    "    cost /= 2 * m\n",
    "    return cost\n",
    "\n",
    "def gradient_weight(x, y, w, b):\n",
    "    m = x.size\n",
    "    delta = 0\n",
    "    \n",
    "    for i in range(m):\n",
    "        y_hat = x[i] * w + b\n",
    "        delta += (y_hat - y[i]) * x[i] / m\n",
    "    \n",
    "    return delta\n",
    "\n",
    "def gradient_bias(x, y, w, b):\n",
    "    m = x.size\n",
    "    delta = 0\n",
    "    \n",
    "    for i in range(m):\n",
    "        y_hat = x[i] * w + b\n",
    "        delta += (y_hat - y[i])/m\n",
    "    \n",
    "    return delta"
   ]
  },
  {
   "cell_type": "code",
   "execution_count": 3,
   "id": "0451bc51",
   "metadata": {
    "execution": {
     "iopub.execute_input": "2023-12-22T06:49:51.681551Z",
     "iopub.status.busy": "2023-12-22T06:49:51.681195Z",
     "iopub.status.idle": "2023-12-22T06:50:04.802383Z",
     "shell.execute_reply": "2023-12-22T06:50:04.801265Z"
    },
    "papermill": {
     "duration": 13.126906,
     "end_time": "2023-12-22T06:50:04.804675",
     "exception": false,
     "start_time": "2023-12-22T06:49:51.677769",
     "status": "completed"
    },
    "tags": []
   },
   "outputs": [],
   "source": [
    "weight = 0\n",
    "bias = 0\n",
    "learning_rate = 0.01\n",
    "\n",
    "for i in range (NUM_ITERATIONS):\n",
    "#     print(weight, bias)\n",
    "    w = weight\n",
    "    b = bias\n",
    "    dw = gradient_weight(x_train, y_train, w, b)\n",
    "    db = gradient_bias(x_train, y_train, w, b)\n",
    "#     if (i < 100):\n",
    "#         print(dw, db)\n",
    "    weight -= learning_rate * gradient_weight(x_train, y_train, w, b)\n",
    "    bias -= learning_rate * gradient_bias(x_train, y_train, w, b)\n",
    "\n",
    "\n"
   ]
  },
  {
   "cell_type": "code",
   "execution_count": 4,
   "id": "199ca90c",
   "metadata": {
    "execution": {
     "iopub.execute_input": "2023-12-22T06:50:04.811013Z",
     "iopub.status.busy": "2023-12-22T06:50:04.810593Z",
     "iopub.status.idle": "2023-12-22T06:50:05.057236Z",
     "shell.execute_reply": "2023-12-22T06:50:05.055820Z"
    },
    "papermill": {
     "duration": 0.253215,
     "end_time": "2023-12-22T06:50:05.060202",
     "exception": false,
     "start_time": "2023-12-22T06:50:04.806987",
     "status": "completed"
    },
    "tags": []
   },
   "outputs": [
    {
     "name": "stdout",
     "output_type": "stream",
     "text": [
      "0.9181488554636857 -0.000467378317825051\n"
     ]
    },
    {
     "data": {
      "image/png": "[encoded data removed]",
      "text/plain": [
       "<Figure size 640x480 with 1 Axes>"
      ]
     },
     "metadata": {},
     "output_type": "display_data"
    }
   ],
   "source": [
    "plt.scatter(x_train, y_train)\n",
    "plt.plot(x_train, weight*x_train + bias, color=\"red\")\n",
    "print(weight, bias)"
   ]
  },
  {
   "cell_type": "code",
   "execution_count": null,
   "id": "a4cd4d14",
   "metadata": {
    "papermill": {
     "duration": 0.002264,
     "end_time": "2023-12-22T06:50:05.065156",
     "exception": false,
     "start_time": "2023-12-22T06:50:05.062892",
     "status": "completed"
    },
    "tags": []
   },
   "outputs": [],
   "source": []
  }
 ],
 "metadata": {
  "kaggle": {
   "accelerator": "none",
   "dataSources": [
    {
     "datasetId": 1256,
     "sourceId": 2242,
     "sourceType": "datasetVersion"
    }
   ],
   "dockerImageVersionId": 30626,
   "isGpuEnabled": false,
   "isInternetEnabled": false,
   "language": "python",
   "sourceType": "notebook"
  },
  "kernelspec": {
   "display_name": "Python 3",
   "language": "python",
   "name": "python3"
  },
  "language_info": {
   "codemirror_mode": {
    "name": "ipython",
    "version": 3
   },
   "file_extension": ".py",
   "mimetype": "text/x-python",
   "name": "python",
   "nbconvert_exporter": "python",
   "pygments_lexer": "ipython3",
   "version": "3.10.12"
  },
  "papermill": {
   "default_parameters": {},
   "duration": 19.018575,
   "end_time": "2023-12-22T06:50:05.589393",
   "environment_variables": {},
   "exception": null,
   "input_path": "__notebook__.ipynb",
   "output_path": "__notebook__.ipynb",
   "parameters": {},
   "start_time": "2023-12-22T06:49:46.570818",
   "version": "2.4.0"
  }
 },
 "nbformat": 4,
 "nbformat_minor": 5
}
